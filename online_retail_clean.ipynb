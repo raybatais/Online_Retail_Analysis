{
  "nbformat": 4,
  "nbformat_minor": 0,
  "metadata": {
    "colab": {
      "provenance": [],
      "authorship_tag": "ABX9TyOx9nTg3pV23MP/1T5MW2eo",
      "include_colab_link": true
    },
    "kernelspec": {
      "name": "python3",
      "display_name": "Python 3"
    },
    "language_info": {
      "name": "python"
    }
  },
  "cells": [
    {
      "cell_type": "markdown",
      "metadata": {
        "id": "view-in-github",
        "colab_type": "text"
      },
      "source": [
        "<a href=\"https://colab.research.google.com/github/raybatais/Online_Retail_Analysis/blob/main/online_retail_clean.ipynb\" target=\"_parent\"><img src=\"https://colab.research.google.com/assets/colab-badge.svg\" alt=\"Open In Colab\"/></a>"
      ]
    },
    {
      "cell_type": "code",
      "execution_count": null,
      "metadata": {
        "id": "LkeXV1SN7iRx"
      },
      "outputs": [],
      "source": [
        "import pandas as pd\n",
        "import numpy as np"
      ]
    },
    {
      "cell_type": "code",
      "source": [
        "from google.colab import files\n",
        "uploaded = files.upload()"
      ],
      "metadata": {
        "colab": {
          "base_uri": "https://localhost:8080/",
          "height": 73
        },
        "id": "XXhaAxrU7oHV",
        "outputId": "0c7b1d99-b72d-46a2-fec2-614ef5714740"
      },
      "execution_count": null,
      "outputs": [
        {
          "output_type": "display_data",
          "data": {
            "text/plain": [
              "<IPython.core.display.HTML object>"
            ],
            "text/html": [
              "\n",
              "     <input type=\"file\" id=\"files-1baf56af-9b90-4b60-8be7-1fe66cc31617\" name=\"files[]\" multiple disabled\n",
              "        style=\"border:none\" />\n",
              "     <output id=\"result-1baf56af-9b90-4b60-8be7-1fe66cc31617\">\n",
              "      Upload widget is only available when the cell has been executed in the\n",
              "      current browser session. Please rerun this cell to enable.\n",
              "      </output>\n",
              "      <script>// Copyright 2017 Google LLC\n",
              "//\n",
              "// Licensed under the Apache License, Version 2.0 (the \"License\");\n",
              "// you may not use this file except in compliance with the License.\n",
              "// You may obtain a copy of the License at\n",
              "//\n",
              "//      http://www.apache.org/licenses/LICENSE-2.0\n",
              "//\n",
              "// Unless required by applicable law or agreed to in writing, software\n",
              "// distributed under the License is distributed on an \"AS IS\" BASIS,\n",
              "// WITHOUT WARRANTIES OR CONDITIONS OF ANY KIND, either express or implied.\n",
              "// See the License for the specific language governing permissions and\n",
              "// limitations under the License.\n",
              "\n",
              "/**\n",
              " * @fileoverview Helpers for google.colab Python module.\n",
              " */\n",
              "(function(scope) {\n",
              "function span(text, styleAttributes = {}) {\n",
              "  const element = document.createElement('span');\n",
              "  element.textContent = text;\n",
              "  for (const key of Object.keys(styleAttributes)) {\n",
              "    element.style[key] = styleAttributes[key];\n",
              "  }\n",
              "  return element;\n",
              "}\n",
              "\n",
              "// Max number of bytes which will be uploaded at a time.\n",
              "const MAX_PAYLOAD_SIZE = 100 * 1024;\n",
              "\n",
              "function _uploadFiles(inputId, outputId) {\n",
              "  const steps = uploadFilesStep(inputId, outputId);\n",
              "  const outputElement = document.getElementById(outputId);\n",
              "  // Cache steps on the outputElement to make it available for the next call\n",
              "  // to uploadFilesContinue from Python.\n",
              "  outputElement.steps = steps;\n",
              "\n",
              "  return _uploadFilesContinue(outputId);\n",
              "}\n",
              "\n",
              "// This is roughly an async generator (not supported in the browser yet),\n",
              "// where there are multiple asynchronous steps and the Python side is going\n",
              "// to poll for completion of each step.\n",
              "// This uses a Promise to block the python side on completion of each step,\n",
              "// then passes the result of the previous step as the input to the next step.\n",
              "function _uploadFilesContinue(outputId) {\n",
              "  const outputElement = document.getElementById(outputId);\n",
              "  const steps = outputElement.steps;\n",
              "\n",
              "  const next = steps.next(outputElement.lastPromiseValue);\n",
              "  return Promise.resolve(next.value.promise).then((value) => {\n",
              "    // Cache the last promise value to make it available to the next\n",
              "    // step of the generator.\n",
              "    outputElement.lastPromiseValue = value;\n",
              "    return next.value.response;\n",
              "  });\n",
              "}\n",
              "\n",
              "/**\n",
              " * Generator function which is called between each async step of the upload\n",
              " * process.\n",
              " * @param {string} inputId Element ID of the input file picker element.\n",
              " * @param {string} outputId Element ID of the output display.\n",
              " * @return {!Iterable<!Object>} Iterable of next steps.\n",
              " */\n",
              "function* uploadFilesStep(inputId, outputId) {\n",
              "  const inputElement = document.getElementById(inputId);\n",
              "  inputElement.disabled = false;\n",
              "\n",
              "  const outputElement = document.getElementById(outputId);\n",
              "  outputElement.innerHTML = '';\n",
              "\n",
              "  const pickedPromise = new Promise((resolve) => {\n",
              "    inputElement.addEventListener('change', (e) => {\n",
              "      resolve(e.target.files);\n",
              "    });\n",
              "  });\n",
              "\n",
              "  const cancel = document.createElement('button');\n",
              "  inputElement.parentElement.appendChild(cancel);\n",
              "  cancel.textContent = 'Cancel upload';\n",
              "  const cancelPromise = new Promise((resolve) => {\n",
              "    cancel.onclick = () => {\n",
              "      resolve(null);\n",
              "    };\n",
              "  });\n",
              "\n",
              "  // Wait for the user to pick the files.\n",
              "  const files = yield {\n",
              "    promise: Promise.race([pickedPromise, cancelPromise]),\n",
              "    response: {\n",
              "      action: 'starting',\n",
              "    }\n",
              "  };\n",
              "\n",
              "  cancel.remove();\n",
              "\n",
              "  // Disable the input element since further picks are not allowed.\n",
              "  inputElement.disabled = true;\n",
              "\n",
              "  if (!files) {\n",
              "    return {\n",
              "      response: {\n",
              "        action: 'complete',\n",
              "      }\n",
              "    };\n",
              "  }\n",
              "\n",
              "  for (const file of files) {\n",
              "    const li = document.createElement('li');\n",
              "    li.append(span(file.name, {fontWeight: 'bold'}));\n",
              "    li.append(span(\n",
              "        `(${file.type || 'n/a'}) - ${file.size} bytes, ` +\n",
              "        `last modified: ${\n",
              "            file.lastModifiedDate ? file.lastModifiedDate.toLocaleDateString() :\n",
              "                                    'n/a'} - `));\n",
              "    const percent = span('0% done');\n",
              "    li.appendChild(percent);\n",
              "\n",
              "    outputElement.appendChild(li);\n",
              "\n",
              "    const fileDataPromise = new Promise((resolve) => {\n",
              "      const reader = new FileReader();\n",
              "      reader.onload = (e) => {\n",
              "        resolve(e.target.result);\n",
              "      };\n",
              "      reader.readAsArrayBuffer(file);\n",
              "    });\n",
              "    // Wait for the data to be ready.\n",
              "    let fileData = yield {\n",
              "      promise: fileDataPromise,\n",
              "      response: {\n",
              "        action: 'continue',\n",
              "      }\n",
              "    };\n",
              "\n",
              "    // Use a chunked sending to avoid message size limits. See b/62115660.\n",
              "    let position = 0;\n",
              "    do {\n",
              "      const length = Math.min(fileData.byteLength - position, MAX_PAYLOAD_SIZE);\n",
              "      const chunk = new Uint8Array(fileData, position, length);\n",
              "      position += length;\n",
              "\n",
              "      const base64 = btoa(String.fromCharCode.apply(null, chunk));\n",
              "      yield {\n",
              "        response: {\n",
              "          action: 'append',\n",
              "          file: file.name,\n",
              "          data: base64,\n",
              "        },\n",
              "      };\n",
              "\n",
              "      let percentDone = fileData.byteLength === 0 ?\n",
              "          100 :\n",
              "          Math.round((position / fileData.byteLength) * 100);\n",
              "      percent.textContent = `${percentDone}% done`;\n",
              "\n",
              "    } while (position < fileData.byteLength);\n",
              "  }\n",
              "\n",
              "  // All done.\n",
              "  yield {\n",
              "    response: {\n",
              "      action: 'complete',\n",
              "    }\n",
              "  };\n",
              "}\n",
              "\n",
              "scope.google = scope.google || {};\n",
              "scope.google.colab = scope.google.colab || {};\n",
              "scope.google.colab._files = {\n",
              "  _uploadFiles,\n",
              "  _uploadFilesContinue,\n",
              "};\n",
              "})(self);\n",
              "</script> "
            ]
          },
          "metadata": {}
        },
        {
          "output_type": "stream",
          "name": "stdout",
          "text": [
            "Saving online_retail.csv to online_retail.csv\n"
          ]
        }
      ]
    },
    {
      "cell_type": "code",
      "source": [
        "df = pd.read_csv('online_retail.csv')"
      ],
      "metadata": {
        "colab": {
          "base_uri": "https://localhost:8080/"
        },
        "id": "0dm6vdEp8y-c",
        "outputId": "b2eec432-24e7-441b-a487-772d286cea0b"
      },
      "execution_count": null,
      "outputs": [
        {
          "output_type": "stream",
          "name": "stderr",
          "text": [
            "<ipython-input-3-9b06ca2d696f>:1: DtypeWarning: Columns (3,5,6) have mixed types. Specify dtype option on import or set low_memory=False.\n",
            "  df = pd.read_csv('online_retail.csv')\n"
          ]
        }
      ]
    },
    {
      "cell_type": "code",
      "source": [
        "print(df.head())"
      ],
      "metadata": {
        "colab": {
          "base_uri": "https://localhost:8080/"
        },
        "id": "eem8xDDnaLOQ",
        "outputId": "238c0b01-43b7-4cb3-8391-380feed5fd1b"
      },
      "execution_count": null,
      "outputs": [
        {
          "output_type": "stream",
          "name": "stdout",
          "text": [
            "  InvoiceNo StockCode                          Description Quantity  \\\n",
            "0    536365    85123A   WHITE HANGING HEART T-LIGHT HOLDER        6   \n",
            "1    536365     71053                  WHITE METAL LANTERN        6   \n",
            "2    536365    84406B       CREAM CUPID HEARTS COAT HANGER        8   \n",
            "3    536365    84029G  KNITTED UNION FLAG HOT WATER BOTTLE        6   \n",
            "4    536365    84029E       RED WOOLLY HOTTIE WHITE HEART.        6   \n",
            "\n",
            "      InvoiceDate UnitPrice CustomerID         Country  \n",
            "0  12/1/2010 8:26      2.55      17850  United Kingdom  \n",
            "1  12/1/2010 8:26      3.39      17850  United Kingdom  \n",
            "2  12/1/2010 8:26      2.75      17850  United Kingdom  \n",
            "3  12/1/2010 8:26      3.39      17850  United Kingdom  \n",
            "4  12/1/2010 8:26      3.39      17850  United Kingdom  \n"
          ]
        }
      ]
    },
    {
      "cell_type": "code",
      "source": [
        "print(\"\\nMissing values per column:\")\n",
        "print(df.isnull().sum())"
      ],
      "metadata": {
        "colab": {
          "base_uri": "https://localhost:8080/"
        },
        "id": "cxb6S5awaXQR",
        "outputId": "f823bd5b-d4d9-4754-995b-e9c680bdc279"
      },
      "execution_count": null,
      "outputs": [
        {
          "output_type": "stream",
          "name": "stdout",
          "text": [
            "\n",
            "Missing values per column:\n",
            "InvoiceNo          0\n",
            "StockCode          0\n",
            "Description      291\n",
            "Quantity           0\n",
            "InvoiceDate        0\n",
            "UnitPrice          0\n",
            "CustomerID     33355\n",
            "Country            0\n",
            "dtype: int64\n"
          ]
        }
      ]
    },
    {
      "cell_type": "code",
      "source": [
        "# Drop rows with missing CustomerID (essential for customer analysis)\n",
        "df = df.dropna(subset=[\"CustomerID\"]).reset_index(drop=True)\n"
      ],
      "metadata": {
        "id": "LHxE_lkdaaPj"
      },
      "execution_count": null,
      "outputs": []
    },
    {
      "cell_type": "code",
      "source": [
        "# Step 2: Remove duplicates\n",
        "print(\"\\nNumber of duplicate rows before removal:\")\n",
        "print(df.duplicated().sum())\n",
        "df = df.drop_duplicates()"
      ],
      "metadata": {
        "colab": {
          "base_uri": "https://localhost:8080/"
        },
        "id": "e2TrENX4ahAR",
        "outputId": "62d8fa13-fb1b-4855-b77a-2a4c0fcdf2d7"
      },
      "execution_count": null,
      "outputs": [
        {
          "output_type": "stream",
          "name": "stdout",
          "text": [
            "\n",
            "Number of duplicate rows before removal:\n",
            "876\n"
          ]
        }
      ]
    },
    {
      "cell_type": "code",
      "source": [
        "# Step 3: Handle incorrect data types\n",
        "df[\"InvoiceDate\"] = pd.to_datetime(df[\"InvoiceDate\"], format=\"%m/%d/%Y %H:%M\", errors=\"coerce\")  # Convert InvoiceDate to datetime\n",
        "# Convert CustomerID to numeric, setting invalid entries to NaN\n",
        "df[\"CustomerID\"] = pd.to_numeric(df[\"CustomerID\"], errors=\"coerce\")\n",
        "\n",
        "# Drop rows with missing CustomerID\n",
        "df = df.dropna(subset=[\"CustomerID\"]).copy()\n",
        "\n",
        "# Convert CustomerID to integer\n",
        "df[\"CustomerID\"] = df[\"CustomerID\"].astype(int)\n",
        "\n",
        "# Verify the result\n",
        "print(df.head())\n",
        "\n"
      ],
      "metadata": {
        "colab": {
          "base_uri": "https://localhost:8080/"
        },
        "id": "pK7h2MdEamHh",
        "outputId": "8f3d2697-02f9-497d-b843-d0c9335286e9"
      },
      "execution_count": null,
      "outputs": [
        {
          "output_type": "stream",
          "name": "stdout",
          "text": [
            "  InvoiceNo StockCode                          Description Quantity  \\\n",
            "0    536365    85123A   WHITE HANGING HEART T-LIGHT HOLDER        6   \n",
            "1    536365     71053                  WHITE METAL LANTERN        6   \n",
            "2    536365    84406B       CREAM CUPID HEARTS COAT HANGER        8   \n",
            "3    536365    84029G  KNITTED UNION FLAG HOT WATER BOTTLE        6   \n",
            "4    536365    84029E       RED WOOLLY HOTTIE WHITE HEART.        6   \n",
            "\n",
            "          InvoiceDate UnitPrice  CustomerID         Country  \n",
            "0 2010-12-01 08:26:00      2.55       17850  United Kingdom  \n",
            "1 2010-12-01 08:26:00      3.39       17850  United Kingdom  \n",
            "2 2010-12-01 08:26:00      2.75       17850  United Kingdom  \n",
            "3 2010-12-01 08:26:00      3.39       17850  United Kingdom  \n",
            "4 2010-12-01 08:26:00      3.39       17850  United Kingdom  \n"
          ]
        }
      ]
    },
    {
      "cell_type": "code",
      "source": [
        "# Step 4: Remove outliers\n",
        "# Remove rows with negative Quantity or UnitPrice\n",
        "# Convert Quantity and UnitPrice to numeric, setting invalid entries to NaN\n",
        "df[\"Quantity\"] = pd.to_numeric(df[\"Quantity\"], errors=\"coerce\")\n",
        "df[\"UnitPrice\"] = pd.to_numeric(df[\"UnitPrice\"], errors=\"coerce\")\n",
        "\n",
        "# Drop rows with NaN in Quantity or UnitPrice\n",
        "df = df.dropna(subset=[\"Quantity\", \"UnitPrice\"]).copy()\n",
        "\n",
        "# Remove rows with negative or zero values\n",
        "df = df[(df[\"Quantity\"] > 0) & (df[\"UnitPrice\"] > 0)]\n",
        "\n",
        "# Verify the result\n",
        "print(df.head())"
      ],
      "metadata": {
        "colab": {
          "base_uri": "https://localhost:8080/"
        },
        "id": "EKfZYe3OcK-O",
        "outputId": "03fc3b42-36e9-462d-ade9-b9a7567591b7"
      },
      "execution_count": null,
      "outputs": [
        {
          "output_type": "stream",
          "name": "stdout",
          "text": [
            "  InvoiceNo StockCode                          Description  Quantity  \\\n",
            "0    536365    85123A   WHITE HANGING HEART T-LIGHT HOLDER       6.0   \n",
            "1    536365     71053                  WHITE METAL LANTERN       6.0   \n",
            "2    536365    84406B       CREAM CUPID HEARTS COAT HANGER       8.0   \n",
            "3    536365    84029G  KNITTED UNION FLAG HOT WATER BOTTLE       6.0   \n",
            "4    536365    84029E       RED WOOLLY HOTTIE WHITE HEART.       6.0   \n",
            "\n",
            "          InvoiceDate  UnitPrice  CustomerID         Country  \n",
            "0 2010-12-01 08:26:00       2.55       17850  United Kingdom  \n",
            "1 2010-12-01 08:26:00       3.39       17850  United Kingdom  \n",
            "2 2010-12-01 08:26:00       2.75       17850  United Kingdom  \n",
            "3 2010-12-01 08:26:00       3.39       17850  United Kingdom  \n",
            "4 2010-12-01 08:26:00       3.39       17850  United Kingdom  \n"
          ]
        }
      ]
    },
    {
      "cell_type": "code",
      "source": [
        "# Step 5: Create new features\n",
        "# Add a TotalPrice column\n",
        "df[\"TotalPrice\"] = df[\"Quantity\"] * df[\"UnitPrice\"]\n"
      ],
      "metadata": {
        "id": "IvFoMqVLcan_"
      },
      "execution_count": null,
      "outputs": []
    },
    {
      "cell_type": "code",
      "source": [
        "# Extract year and month from InvoiceDate for further analysis\n",
        "df[\"YearMonth\"] = df[\"InvoiceDate\"].dt.to_period(\"M\")"
      ],
      "metadata": {
        "id": "y1GPnuRNcdHA"
      },
      "execution_count": null,
      "outputs": []
    },
    {
      "cell_type": "code",
      "source": [
        "# Step 6: Standardize text data\n",
        "df[\"Description\"] = df[\"Description\"].str.strip().str.lower()  # Remove leading/trailing spaces and convert to lowercase\n"
      ],
      "metadata": {
        "id": "T6ynHVdicf1a"
      },
      "execution_count": null,
      "outputs": []
    },
    {
      "cell_type": "code",
      "source": [
        "# Step 7: Save the cleaned data\n",
        "cleaned_file_path = \"cleaned_retail_data.csv\"\n",
        "df.to_csv(cleaned_file_path, index=False)\n",
        "print(f\"\\nCleaned data saved to {cleaned_file_path}\")\n"
      ],
      "metadata": {
        "colab": {
          "base_uri": "https://localhost:8080/"
        },
        "id": "g96dgvzjcitY",
        "outputId": "a8d23f4b-f1b3-43ce-e7eb-572cdaddf6ef"
      },
      "execution_count": null,
      "outputs": [
        {
          "output_type": "stream",
          "name": "stdout",
          "text": [
            "\n",
            "Cleaned data saved to cleaned_retail_data.csv\n"
          ]
        }
      ]
    },
    {
      "cell_type": "code",
      "source": [
        "# Preview cleaned data\n",
        "print(\"\\nCleaned dataset preview:\")\n",
        "print(df.head())"
      ],
      "metadata": {
        "colab": {
          "base_uri": "https://localhost:8080/"
        },
        "id": "YgXlPUFtcleY",
        "outputId": "69f4b67c-80a6-4fd5-f5e4-56e978725065"
      },
      "execution_count": null,
      "outputs": [
        {
          "output_type": "stream",
          "name": "stdout",
          "text": [
            "\n",
            "Cleaned dataset preview:\n",
            "  InvoiceNo StockCode                          Description  Quantity  \\\n",
            "0    536365    85123A   white hanging heart t-light holder       6.0   \n",
            "1    536365     71053                  white metal lantern       6.0   \n",
            "2    536365    84406B       cream cupid hearts coat hanger       8.0   \n",
            "3    536365    84029G  knitted union flag hot water bottle       6.0   \n",
            "4    536365    84029E       red woolly hottie white heart.       6.0   \n",
            "\n",
            "          InvoiceDate  UnitPrice  CustomerID         Country  TotalPrice  \\\n",
            "0 2010-12-01 08:26:00       2.55       17850  United Kingdom       15.30   \n",
            "1 2010-12-01 08:26:00       3.39       17850  United Kingdom       20.34   \n",
            "2 2010-12-01 08:26:00       2.75       17850  United Kingdom       22.00   \n",
            "3 2010-12-01 08:26:00       3.39       17850  United Kingdom       20.34   \n",
            "4 2010-12-01 08:26:00       3.39       17850  United Kingdom       20.34   \n",
            "\n",
            "  YearMonth  \n",
            "0   2010-12  \n",
            "1   2010-12  \n",
            "2   2010-12  \n",
            "3   2010-12  \n",
            "4   2010-12  \n"
          ]
        }
      ]
    }
  ]
}